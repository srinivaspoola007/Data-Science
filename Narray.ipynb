{
  "nbformat": 4,
  "nbformat_minor": 0,
  "metadata": {
    "colab": {
      "provenance": [],
      "authorship_tag": "ABX9TyNMvY/BgXYxwB2p0WsyeIxE",
      "include_colab_link": true
    },
    "kernelspec": {
      "name": "python3",
      "display_name": "Python 3"
    },
    "language_info": {
      "name": "python"
    }
  },
  "cells": [
    {
      "cell_type": "markdown",
      "metadata": {
        "id": "view-in-github",
        "colab_type": "text"
      },
      "source": [
        "<a href=\"https://colab.research.google.com/github/srinivaspoola007/Data-Science/blob/main/Narray.ipynb\" target=\"_parent\"><img src=\"https://colab.research.google.com/assets/colab-badge.svg\" alt=\"Open In Colab\"/></a>"
      ]
    },
    {
      "cell_type": "markdown",
      "source": [
        "Numpy **Array**"
      ],
      "metadata": {
        "id": "-ZOTSgYt7Kiv"
      }
    },
    {
      "cell_type": "code",
      "execution_count": null,
      "metadata": {
        "id": "XmiqEO0-4ytU"
      },
      "outputs": [],
      "source": [
        "import numpy as np\n"
      ]
    },
    {
      "cell_type": "markdown",
      "source": [
        "list is converted to an array"
      ],
      "metadata": {
        "id": "yA8M2neD7PiG"
      }
    },
    {
      "cell_type": "code",
      "source": [
        "my_lst=[[3,4,5],[7,8,9],[1,2,3]]\n",
        "np.array(my_lst)"
      ],
      "metadata": {
        "colab": {
          "base_uri": "https://localhost:8080/"
        },
        "id": "BUbkJc4Q5Q1V",
        "outputId": "67a89e93-8793-4661-9986-c8ad34b5109e"
      },
      "execution_count": null,
      "outputs": [
        {
          "output_type": "execute_result",
          "data": {
            "text/plain": [
              "array([[3, 4, 5],\n",
              "       [7, 8, 9],\n",
              "       [1, 2, 3]])"
            ]
          },
          "metadata": {},
          "execution_count": 3
        }
      ]
    },
    {
      "cell_type": "markdown",
      "source": [
        "ranging the array"
      ],
      "metadata": {
        "id": "pQIZwvfM7TUm"
      }
    },
    {
      "cell_type": "code",
      "source": [
        "np.arange(0,11)"
      ],
      "metadata": {
        "colab": {
          "base_uri": "https://localhost:8080/"
        },
        "id": "jlDyb6mW6lbw",
        "outputId": "2e017aa0-d3a1-4314-dfc2-12c973963533"
      },
      "execution_count": null,
      "outputs": [
        {
          "output_type": "execute_result",
          "data": {
            "text/plain": [
              "array([ 0,  1,  2,  3,  4,  5,  6,  7,  8,  9, 10])"
            ]
          },
          "metadata": {},
          "execution_count": 4
        }
      ]
    },
    {
      "cell_type": "markdown",
      "source": [
        "ranging with step size"
      ],
      "metadata": {
        "id": "FFAwIWF68COA"
      }
    },
    {
      "cell_type": "code",
      "source": [
        "np.arange(0,11,2)"
      ],
      "metadata": {
        "colab": {
          "base_uri": "https://localhost:8080/"
        },
        "id": "JywVbC0K6pDY",
        "outputId": "97a62fff-6be4-4733-c4f9-d4ade28c4ce0"
      },
      "execution_count": null,
      "outputs": [
        {
          "output_type": "execute_result",
          "data": {
            "text/plain": [
              "array([ 0,  2,  4,  6,  8, 10])"
            ]
          },
          "metadata": {},
          "execution_count": 5
        }
      ]
    },
    {
      "cell_type": "markdown",
      "source": [
        "zeros array of 3rows and 4 columns"
      ],
      "metadata": {
        "id": "4j-qI90N7k0I"
      }
    },
    {
      "cell_type": "code",
      "source": [
        "np.zeros((3,4))"
      ],
      "metadata": {
        "colab": {
          "base_uri": "https://localhost:8080/"
        },
        "id": "BlUKoGMq6rdZ",
        "outputId": "7efa5fb4-e489-4432-86f3-5cc9e3f67af4"
      },
      "execution_count": null,
      "outputs": [
        {
          "output_type": "execute_result",
          "data": {
            "text/plain": [
              "array([[0., 0., 0., 0.],\n",
              "       [0., 0., 0., 0.],\n",
              "       [0., 0., 0., 0.]])"
            ]
          },
          "metadata": {},
          "execution_count": 6
        }
      ]
    },
    {
      "cell_type": "markdown",
      "source": [
        "linspace take points we want"
      ],
      "metadata": {
        "id": "NpaNIp5C8tLB"
      }
    },
    {
      "cell_type": "code",
      "source": [
        "np.linspace(0,10,11)"
      ],
      "metadata": {
        "colab": {
          "base_uri": "https://localhost:8080/"
        },
        "id": "q-Fqwt2Y8snY",
        "outputId": "ac785aed-a5c4-4f7a-bd7b-437ede815d27"
      },
      "execution_count": null,
      "outputs": [
        {
          "output_type": "execute_result",
          "data": {
            "text/plain": [
              "array([ 0.,  1.,  2.,  3.,  4.,  5.,  6.,  7.,  8.,  9., 10.])"
            ]
          },
          "metadata": {},
          "execution_count": 7
        }
      ]
    },
    {
      "cell_type": "markdown",
      "source": [
        "this generates the identity matrix"
      ],
      "metadata": {
        "id": "UygZQ_wA9oUB"
      }
    },
    {
      "cell_type": "code",
      "source": [
        "np.eye(4)"
      ],
      "metadata": {
        "colab": {
          "base_uri": "https://localhost:8080/"
        },
        "id": "nKoYSM-e9pU2",
        "outputId": "edef4b90-20c5-4a3e-e60e-7fe2ab8a242f"
      },
      "execution_count": null,
      "outputs": [
        {
          "output_type": "execute_result",
          "data": {
            "text/plain": [
              "array([[1., 0., 0., 0.],\n",
              "       [0., 1., 0., 0.],\n",
              "       [0., 0., 1., 0.],\n",
              "       [0., 0., 0., 1.]])"
            ]
          },
          "metadata": {},
          "execution_count": 8
        }
      ]
    },
    {
      "cell_type": "code",
      "source": [
        "np.random.rand(5) #gives a 1D array 0-1 of 5 elements"
      ],
      "metadata": {
        "colab": {
          "base_uri": "https://localhost:8080/"
        },
        "id": "Hsykprqu-Db9",
        "outputId": "c810077a-b607-490d-c09a-2dbbbb08f212"
      },
      "execution_count": null,
      "outputs": [
        {
          "output_type": "execute_result",
          "data": {
            "text/plain": [
              "array([0.47392722, 0.59988953, 0.83716627, 0.08752112, 0.58071566])"
            ]
          },
          "metadata": {},
          "execution_count": 9
        }
      ]
    },
    {
      "cell_type": "code",
      "source": [
        "np.random.randn(5,5) #gives a 2D array"
      ],
      "metadata": {
        "colab": {
          "base_uri": "https://localhost:8080/"
        },
        "id": "K5ef5f-r-eyA",
        "outputId": "8304dff9-71a9-4fa1-eb1b-38791dfa3cf6"
      },
      "execution_count": null,
      "outputs": [
        {
          "output_type": "execute_result",
          "data": {
            "text/plain": [
              "array([[-0.06204091, -0.26917167,  0.05343716,  1.01447645,  1.16404832],\n",
              "       [-0.82366508, -0.55839152,  1.21213678, -0.10834446,  1.49206301],\n",
              "       [ 1.02210799,  1.23374482, -0.65867217,  0.43207621,  1.67774349],\n",
              "       [-0.21193434, -0.74643686,  0.03184973,  1.20138464, -0.04433853],\n",
              "       [ 0.23824284,  0.07008778, -0.14774806,  0.12718575,  0.0874463 ]])"
            ]
          },
          "metadata": {},
          "execution_count": 10
        }
      ]
    },
    {
      "cell_type": "code",
      "source": [
        "naarrr=np.random.randint(1,100,10)\n",
        "naarrr"
      ],
      "metadata": {
        "colab": {
          "base_uri": "https://localhost:8080/"
        },
        "id": "Y1w6UqnUQtEo",
        "outputId": "87220d67-841c-424a-ab06-869fdb3f2e0c"
      },
      "execution_count": null,
      "outputs": [
        {
          "output_type": "execute_result",
          "data": {
            "text/plain": [
              "array([57, 85, 58, 18, 40, 27, 33,  3, 36, 62])"
            ]
          },
          "metadata": {},
          "execution_count": 11
        }
      ]
    },
    {
      "cell_type": "code",
      "source": [
        "naarrr.size"
      ],
      "metadata": {
        "colab": {
          "base_uri": "https://localhost:8080/"
        },
        "id": "LTGFP97ARp16",
        "outputId": "65247ec7-5169-4dd4-e4d4-f35e26c918bb"
      },
      "execution_count": null,
      "outputs": [
        {
          "output_type": "execute_result",
          "data": {
            "text/plain": [
              "10"
            ]
          },
          "metadata": {},
          "execution_count": 12
        }
      ]
    },
    {
      "cell_type": "code",
      "source": [
        "naarrr.reshape((5,2))"
      ],
      "metadata": {
        "colab": {
          "base_uri": "https://localhost:8080/"
        },
        "id": "PpN0Dwh-Ryap",
        "outputId": "cfc8fbbe-d065-43c5-84f2-9aa97c169cbc"
      },
      "execution_count": null,
      "outputs": [
        {
          "output_type": "execute_result",
          "data": {
            "text/plain": [
              "array([[57, 85],\n",
              "       [58, 18],\n",
              "       [40, 27],\n",
              "       [33,  3],\n",
              "       [36, 62]])"
            ]
          },
          "metadata": {},
          "execution_count": 13
        }
      ]
    },
    {
      "cell_type": "markdown",
      "source": [
        "## numpy indexing and **selection**"
      ],
      "metadata": {
        "id": "9mnI0gF6TSAY"
      }
    },
    {
      "cell_type": "markdown",
      "source": [
        "for 1 D array"
      ],
      "metadata": {
        "id": "N1mt9LfcVIpM"
      }
    },
    {
      "cell_type": "code",
      "source": [
        "arry=np.arange(0,15)\n",
        "arry"
      ],
      "metadata": {
        "colab": {
          "base_uri": "https://localhost:8080/"
        },
        "id": "OwExIH37TZhY",
        "outputId": "e2bbfe16-1bec-40a9-8728-a4d9a13dac93"
      },
      "execution_count": null,
      "outputs": [
        {
          "output_type": "execute_result",
          "data": {
            "text/plain": [
              "array([ 0,  1,  2,  3,  4,  5,  6,  7,  8,  9, 10, 11, 12, 13, 14])"
            ]
          },
          "metadata": {},
          "execution_count": 14
        }
      ]
    },
    {
      "cell_type": "code",
      "source": [
        "arry[9]"
      ],
      "metadata": {
        "colab": {
          "base_uri": "https://localhost:8080/"
        },
        "id": "1pu4RldkTvR8",
        "outputId": "b8ac3f22-2bb8-478f-c69b-1f2a1b9344b7"
      },
      "execution_count": null,
      "outputs": [
        {
          "output_type": "execute_result",
          "data": {
            "text/plain": [
              "9"
            ]
          },
          "metadata": {},
          "execution_count": 15
        }
      ]
    },
    {
      "cell_type": "code",
      "source": [
        "arry[1:8]"
      ],
      "metadata": {
        "colab": {
          "base_uri": "https://localhost:8080/"
        },
        "id": "90mzV5D_T4Gz",
        "outputId": "67861bc1-a6e9-43b9-eeb9-87cc68587133"
      },
      "execution_count": null,
      "outputs": [
        {
          "output_type": "execute_result",
          "data": {
            "text/plain": [
              "array([1, 2, 3, 4, 5, 6, 7])"
            ]
          },
          "metadata": {},
          "execution_count": 16
        }
      ]
    },
    {
      "cell_type": "code",
      "source": [
        "arry[4:]"
      ],
      "metadata": {
        "colab": {
          "base_uri": "https://localhost:8080/"
        },
        "id": "-DAvN5YEUH9o",
        "outputId": "d997902b-6099-42e2-9a34-188dd23f3c1c"
      },
      "execution_count": null,
      "outputs": [
        {
          "output_type": "execute_result",
          "data": {
            "text/plain": [
              "array([ 4,  5,  6,  7,  8,  9, 10, 11, 12, 13, 14])"
            ]
          },
          "metadata": {},
          "execution_count": 17
        }
      ]
    },
    {
      "cell_type": "code",
      "source": [
        "arry[5:]=100\n",
        "arry"
      ],
      "metadata": {
        "colab": {
          "base_uri": "https://localhost:8080/"
        },
        "id": "z0kwihsIUZUg",
        "outputId": "55b0b03d-ee59-423c-cb19-9d9e6196dbe4"
      },
      "execution_count": null,
      "outputs": [
        {
          "output_type": "execute_result",
          "data": {
            "text/plain": [
              "array([  0,   1,   2,   3,   4, 100, 100, 100, 100, 100, 100, 100, 100,\n",
              "       100, 100])"
            ]
          },
          "metadata": {},
          "execution_count": 18
        }
      ]
    },
    {
      "cell_type": "code",
      "source": [
        "arry=np.arange(0,15)\n",
        "arry"
      ],
      "metadata": {
        "colab": {
          "base_uri": "https://localhost:8080/"
        },
        "id": "dsozFQTrUkEH",
        "outputId": "b89aeae6-7feb-4782-c15e-0408182e5c73"
      },
      "execution_count": null,
      "outputs": [
        {
          "output_type": "execute_result",
          "data": {
            "text/plain": [
              "array([ 0,  1,  2,  3,  4,  5,  6,  7,  8,  9, 10, 11, 12, 13, 14])"
            ]
          },
          "metadata": {},
          "execution_count": 19
        }
      ]
    },
    {
      "cell_type": "markdown",
      "source": [
        "for 2D array"
      ],
      "metadata": {
        "id": "V_OQMfdlVNLu"
      }
    },
    {
      "cell_type": "code",
      "source": [
        "arr_2d=np.array([[1,2,3],[4,5,6],[7,8,9]])\n",
        "arr_2d"
      ],
      "metadata": {
        "colab": {
          "base_uri": "https://localhost:8080/"
        },
        "id": "vpeWy_eTViPa",
        "outputId": "c9563493-bca9-4325-ed0d-75a7fcaeb858"
      },
      "execution_count": null,
      "outputs": [
        {
          "output_type": "execute_result",
          "data": {
            "text/plain": [
              "array([[1, 2, 3],\n",
              "       [4, 5, 6],\n",
              "       [7, 8, 9]])"
            ]
          },
          "metadata": {},
          "execution_count": 20
        }
      ]
    },
    {
      "cell_type": "markdown",
      "source": [
        "to grab any use indexing for exmple to select 5"
      ],
      "metadata": {
        "id": "RMOd58vdWLNG"
      }
    },
    {
      "cell_type": "code",
      "source": [
        "arr_2d[1,1]"
      ],
      "metadata": {
        "colab": {
          "base_uri": "https://localhost:8080/"
        },
        "id": "8vYE4frnVRbA",
        "outputId": "b7c940e8-fdca-4caa-8b2a-b83774c3c98e"
      },
      "execution_count": null,
      "outputs": [
        {
          "output_type": "execute_result",
          "data": {
            "text/plain": [
              "5"
            ]
          },
          "metadata": {},
          "execution_count": 21
        }
      ]
    },
    {
      "cell_type": "code",
      "source": [
        "arr_2d[:1,2:]"
      ],
      "metadata": {
        "colab": {
          "base_uri": "https://localhost:8080/"
        },
        "id": "CEliH_zxXFYE",
        "outputId": "ce04c7ee-1de4-4fc0-a606-95999d80d4ad"
      },
      "execution_count": null,
      "outputs": [
        {
          "output_type": "execute_result",
          "data": {
            "text/plain": [
              "array([[3]])"
            ]
          },
          "metadata": {},
          "execution_count": 22
        }
      ]
    },
    {
      "cell_type": "markdown",
      "source": [
        "give the results ACCORDING TO CONDITION"
      ],
      "metadata": {
        "id": "XVkngInqbAgd"
      }
    },
    {
      "cell_type": "code",
      "source": [
        "arr_2d > 5"
      ],
      "metadata": {
        "colab": {
          "base_uri": "https://localhost:8080/"
        },
        "id": "3dOVEPWrauFT",
        "outputId": "a65a582a-097e-40f7-820d-1aa4a173616f"
      },
      "execution_count": null,
      "outputs": [
        {
          "output_type": "execute_result",
          "data": {
            "text/plain": [
              "array([[False, False, False],\n",
              "       [False, False,  True],\n",
              "       [ True,  True,  True]])"
            ]
          },
          "metadata": {},
          "execution_count": 23
        }
      ]
    },
    {
      "cell_type": "code",
      "source": [
        "arr_2d[arr_2d > 5]"
      ],
      "metadata": {
        "colab": {
          "base_uri": "https://localhost:8080/"
        },
        "id": "By7izrd5bFos",
        "outputId": "2405f645-47c3-4a8b-a4c5-c0c866b951ca"
      },
      "execution_count": null,
      "outputs": [
        {
          "output_type": "execute_result",
          "data": {
            "text/plain": [
              "array([6, 7, 8, 9])"
            ]
          },
          "metadata": {},
          "execution_count": 29
        }
      ]
    }
  ]
}